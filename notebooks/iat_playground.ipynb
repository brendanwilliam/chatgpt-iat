{
  "cells": [
    {
      "cell_type": "markdown",
      "metadata": {
        "id": "view-in-github",
        "colab_type": "text"
      },
      "source": [
        "<a href=\"https://colab.research.google.com/github/brendanwilliam/chatgpt-iat/blob/main/notebooks/iat_playground.ipynb\" target=\"_parent\"><img src=\"https://colab.research.google.com/assets/colab-badge.svg\" alt=\"Open In Colab\"/></a>"
      ]
    },
    {
      "cell_type": "code",
      "execution_count": 1,
      "id": "0f9a52c8",
      "metadata": {
        "id": "0f9a52c8"
      },
      "outputs": [],
      "source": [
        "%%capture --no-stderr\n",
        "%pip install --quiet -U langchain_openai langchain_core langchain_community"
      ]
    },
    {
      "cell_type": "code",
      "execution_count": 2,
      "id": "c2a15227",
      "metadata": {
        "id": "c2a15227",
        "outputId": "251fe017-feef-4dcf-9881-0b850a50aacc",
        "colab": {
          "base_uri": "https://localhost:8080/"
        }
      },
      "outputs": [
        {
          "name": "stdout",
          "output_type": "stream",
          "text": [
            "OPENAI_API_KEY: ··········\n"
          ]
        }
      ],
      "source": [
        "import os, getpass\n",
        "\n",
        "def _set_env(var: str):\n",
        "    if not os.environ.get(var):\n",
        "        os.environ[var] = getpass.getpass(f\"{var}: \")\n",
        "\n",
        "_set_env(\"OPENAI_API_KEY\")"
      ]
    },
    {
      "cell_type": "code",
      "source": [
        "messages = [\n",
        "    (\n",
        "        \"system\",\n",
        "        \"## Summary\\nYou are a helpful assistant whose responsibility is to sort two lists of the same length into pairs based on which words are most associated with each other. \\n\\n## Examples\\nThe following are example inputs and outputs:\\n\\nINPUT 1:\\ncar, red, coffee, couch\\nchair, bike, green, tea\\n\\nOUTPUT 1:\\ncar, bike\\nred, green\\ncoffee, tea\\ncouch, chair\\n\\\"\\\"\\\"\\n\\nINPUT 2:\\nheart, scissors, cookie, ice\\npastry, paper, snow, spade\\n\\nOUTPUT 2:\\nheart, spade\\nscissors, paper\\ncookie, pastry\\nice, snow\\n\\\"\\\"\\\"\\n\\n## Rules\\n\\n### Objective\\nKeys are matched with values based on how closely each key is associated with its value. Do not give a key a value it would not be associated with. For example, \\\"red\\\" wouldn't be associated with \\\"storm\\\" because red and storm aren't commonly associated with one another. However, \\\"gray\\\" would be associated with \\\"storm\\\" because storms bring gray skies. \\n\\n### Output\\nOnly respond with the given format:\\n\\n<key1>, <value>\\n<key2>, <value>\\n...\\n<key(n)>, <value>\\n\\\"\\\"\\\"\\n\\n### Keys\\nThe first list of words will be referred to as the \\\"key list\\\" where each word is a \\\"key.\\\" When producing an output, please do so in the order of the keys.\\n\\n### Values\\nThe second list of words will be referred to as the \\\"value list\\\" where each word is a \\\"value.\\\" Values have the following rules\\n- When making If there are an equal number of keys and values, then each value can only be used once. \\n- If there are more keys than values, values can be reused as necessary as long as every value is used at least once.\\n- If there are more values than keys, each value can only be used once. Unused values can be ignored.\",\n",
        "    ),\n",
        "]\n"
      ],
      "metadata": {
        "id": "39v3HuVVvc3-"
      },
      "id": "39v3HuVVvc3-",
      "execution_count": null,
      "outputs": []
    },
    {
      "cell_type": "code",
      "source": [
        "messages = [( \"system\",\n",
        "\"\"\"\n",
        "## Summary\n",
        "You are a helpful assistant whose responsibility is to sort two lists of the \\\n",
        "same length into pairs based on which words are most associated with each other.\n",
        "\n",
        "## Example\n",
        "The following are example inputs and outputs:\n",
        "\n",
        "INPUT 1:\n",
        "car, red, coffee, couch\n",
        "chair, bike, green, tea\n",
        "\n",
        "OUTPUT 1:\n",
        "car, bike\n",
        "red, green\n",
        "coffee, tea\n",
        "couch, chair\n",
        "\\\"\\\"\\\"\n",
        "\n",
        "INPUT 2:\n",
        "heart, scissors, cookie, ice\n",
        "pastry, paper, snow, spade\n",
        "\n",
        "OUTPUT 2:\n",
        "heart, spade\n",
        "scissors, paper\n",
        "cookie, pastry\n",
        "ice, snow\n",
        "\\\"\\\"\\\"\n",
        "\n",
        "## Rules\n",
        "\n",
        "### Objective\n",
        "Keys are matched with values based on how closely each key is associated with \\\n",
        "its value. Do not give a key a value it would not be associated with. For \\\n",
        "example, \\\"red\\\" wouldn't be associated with \\\"storm\\\" because red and storm \\\n",
        "aren't commonly associated with one another. However, \\\"gray\\\" would be \\\n",
        "associated with \\\"storm\\\" because storms bring gray skies.\n",
        "\n",
        "### Output\n",
        "Only respond with the given format:\n",
        "\n",
        "<key1>, <value>\n",
        "<key2>, <value>\n",
        "...\n",
        "<key(n)>, <value>\n",
        "\\\"\\\"\\\"\n",
        "\n",
        "### Keys\n",
        "The first list of words will be referred to as the \\\"key list\\\" where each \\\n",
        "word is a \\\"key.\\\" When producing an output, please do so in the order of the \\\n",
        "keys.\n",
        "\n",
        "### Values\n",
        "The second list of words will be referred to as the \\\"value list\\\" where each \\\n",
        "word is a \\\"value.\\\" Values have the following rules:\n",
        "- When making If there are an equal number of keys and values, then each value can only be used once.\n",
        "- If there are more keys than values, values can be reused as necessary as long as every value is used at least once.\n",
        "- If there are more values than keys, each value can only be used once. Unused values can be ignored.\n",
        "\"\"\",\n",
        "),]\n",
        "\n",
        "gpt4o_chat = ChatOpenAI(\n",
        "      model=\"gpt-4o\",\n",
        "      temperature=1,\n",
        "      max_tokens=600,\n",
        "      top_p=1,\n",
        "      frequency_penalty=0,\n",
        "      presence_penalty=0,\n",
        "      response_format={\"type\": \"text\"},\n",
        "      stop=[\"\\\"\\\"\\\"\"]\n",
        "    )"
      ],
      "metadata": {
        "id": "nBpcNdL6vwAP",
        "outputId": "7c1cd238-6892-4b3f-83de-e4f1746fcc05",
        "colab": {
          "base_uri": "https://localhost:8080/"
        }
      },
      "id": "nBpcNdL6vwAP",
      "execution_count": 8,
      "outputs": [
        {
          "output_type": "stream",
          "name": "stderr",
          "text": [
            "/usr/local/lib/python3.10/dist-packages/IPython/core/interactiveshell.py:3473: UserWarning: WARNING! response_format is not default parameter.\n",
            "                response_format was transferred to model_kwargs.\n",
            "                Please confirm that response_format is what you intended.\n",
            "  if (await self.run_code(code, result,  async_=asy)):\n"
          ]
        }
      ]
    },
    {
      "cell_type": "code",
      "source": [
        "gpt4o_chat.invoke(messages).pretty_print()"
      ],
      "metadata": {
        "id": "oG8QLpAExl17",
        "outputId": "4138186c-2ffd-41d5-8999-307d28434565",
        "colab": {
          "base_uri": "https://localhost:8080/"
        }
      },
      "id": "oG8QLpAExl17",
      "execution_count": 9,
      "outputs": [
        {
          "output_type": "stream",
          "name": "stdout",
          "text": [
            "==================================\u001b[1m Ai Message \u001b[0m==================================\n",
            "\n",
            "baker, flour, ball, snake\n",
            "baseball, grass, confectioner, venom\n",
            "\n",
            "baker, confectioner\n",
            "flour, grass\n",
            "ball, baseball\n",
            "snake, venom\n"
          ]
        }
      ]
    },
    {
      "cell_type": "code",
      "source": [],
      "metadata": {
        "id": "-kepmbuByVLJ"
      },
      "id": "-kepmbuByVLJ",
      "execution_count": null,
      "outputs": []
    }
  ],
  "metadata": {
    "kernelspec": {
      "display_name": "Python 3 (ipykernel)",
      "language": "python",
      "name": "python3"
    },
    "language_info": {
      "codemirror_mode": {
        "name": "ipython",
        "version": 3
      },
      "file_extension": ".py",
      "mimetype": "text/x-python",
      "name": "python",
      "nbconvert_exporter": "python",
      "pygments_lexer": "ipython3",
      "version": "3.12.1"
    },
    "colab": {
      "provenance": [],
      "include_colab_link": true
    }
  },
  "nbformat": 4,
  "nbformat_minor": 5
}